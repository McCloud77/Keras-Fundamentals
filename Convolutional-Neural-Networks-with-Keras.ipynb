{
 "cells": [
  {
   "cell_type": "markdown",
   "metadata": {},
   "source": [
    "## Convolutional Neural Networks with Keras"
   ]
  },
  {
   "cell_type": "markdown",
   "metadata": {},
   "source": [
    "## Import Libraries"
   ]
  },
  {
   "cell_type": "code",
   "execution_count": 10,
   "metadata": {},
   "outputs": [],
   "source": [
    "import keras\n",
    "from keras.models import Sequential\n",
    "from keras.layers import Dense\n",
    "from keras.utils import to_categorical"
   ]
  },
  {
   "cell_type": "markdown",
   "metadata": {},
   "source": [
    "When working with convolutional neural networks in particular, we will need additional packages."
   ]
  },
  {
   "cell_type": "code",
   "execution_count": 2,
   "metadata": {},
   "outputs": [],
   "source": [
    "from keras.layers.convolutional import Conv2D # to add convolutional layers\n",
    "from keras.layers.convolutional import MaxPooling2D # to add pooling layers\n",
    "from keras.layers import Flatten # to flatten data for fully connected layers"
   ]
  },
  {
   "cell_type": "markdown",
   "metadata": {},
   "source": [
    "## Convolutional Layer with two sets of convolutional and pooling layers"
   ]
  },
  {
   "cell_type": "code",
   "execution_count": 3,
   "metadata": {},
   "outputs": [],
   "source": [
    "# import data\n",
    "from keras.datasets import mnist\n",
    "\n",
    "# load data\n",
    "(X_train, y_train), (X_test, y_test) = mnist.load_data()\n",
    "\n",
    "# reshape to be [samples][pixels][width][height]\n",
    "X_train = X_train.reshape(X_train.shape[0], 28, 28, 1).astype('float32')\n",
    "X_test = X_test.reshape(X_test.shape[0], 28, 28, 1).astype('float32')"
   ]
  },
  {
   "cell_type": "markdown",
   "metadata": {},
   "source": [
    "Normalize the pixel values to be between 0 and 1"
   ]
  },
  {
   "cell_type": "code",
   "execution_count": 4,
   "metadata": {},
   "outputs": [],
   "source": [
    "X_train = X_train / 255 # normalize training data\n",
    "X_test = X_test / 255 # normalize test data"
   ]
  },
  {
   "cell_type": "markdown",
   "metadata": {},
   "source": [
    "Convert the target variable into binary categories"
   ]
  },
  {
   "cell_type": "code",
   "execution_count": 5,
   "metadata": {},
   "outputs": [],
   "source": [
    "y_train = to_categorical(y_train)\n",
    "y_test = to_categorical(y_test)\n",
    "\n",
    "num_classes = y_test.shape[1] # number of categories"
   ]
  },
  {
   "cell_type": "markdown",
   "metadata": {},
   "source": [
    "Define a function that creates the model. Let's start with one set of convolutional and pooling layers."
   ]
  },
  {
   "cell_type": "code",
   "execution_count": 6,
   "metadata": {},
   "outputs": [],
   "source": [
    "def convolutional_model():\n",
    "    \n",
    "    # create model\n",
    "    model = Sequential()\n",
    "    model.add(Conv2D(16, (5, 5), strides=(1, 1), activation='relu', input_shape=(28, 28, 1)))\n",
    "    model.add(MaxPooling2D(pool_size=(2, 2), strides=(2, 2)))\n",
    "    \n",
    "    model.add(Flatten())\n",
    "    model.add(Dense(100, activation='relu'))\n",
    "    model.add(Dense(num_classes, activation='softmax'))\n",
    "    \n",
    "    # compile model\n",
    "    model.compile(optimizer='adam', loss='categorical_crossentropy',  metrics=['accuracy'])\n",
    "    return model"
   ]
  },
  {
   "cell_type": "markdown",
   "metadata": {},
   "source": [
    "Finally, let's call the function to create the model, and then let's train it and evaluate it."
   ]
  },
  {
   "cell_type": "code",
   "execution_count": 7,
   "metadata": {},
   "outputs": [
    {
     "name": "stdout",
     "output_type": "stream",
     "text": [
      "Train on 60000 samples, validate on 10000 samples\n",
      "Epoch 1/10\n",
      " - 50s - loss: 0.3133 - acc: 0.9125 - val_loss: 0.1185 - val_acc: 0.9649\n",
      "Epoch 2/10\n",
      " - 52s - loss: 0.0948 - acc: 0.9727 - val_loss: 0.0650 - val_acc: 0.9807\n",
      "Epoch 3/10\n",
      " - 48s - loss: 0.0639 - acc: 0.9819 - val_loss: 0.0527 - val_acc: 0.9833\n",
      "Epoch 4/10\n",
      " - 55s - loss: 0.0498 - acc: 0.9852 - val_loss: 0.0480 - val_acc: 0.9844\n",
      "Epoch 5/10\n",
      " - 51s - loss: 0.0408 - acc: 0.9881 - val_loss: 0.0430 - val_acc: 0.9857\n",
      "Epoch 6/10\n",
      " - 44s - loss: 0.0353 - acc: 0.9894 - val_loss: 0.0472 - val_acc: 0.9850\n",
      "Epoch 7/10\n",
      " - 44s - loss: 0.0294 - acc: 0.9912 - val_loss: 0.0364 - val_acc: 0.9871\n",
      "Epoch 8/10\n",
      " - 50s - loss: 0.0255 - acc: 0.9920 - val_loss: 0.0363 - val_acc: 0.9875\n",
      "Epoch 9/10\n",
      " - 46s - loss: 0.0208 - acc: 0.9937 - val_loss: 0.0434 - val_acc: 0.9866\n",
      "Epoch 10/10\n",
      " - 45s - loss: 0.0186 - acc: 0.9941 - val_loss: 0.0386 - val_acc: 0.9865\n",
      "Accuracy: 0.9865 \n",
      " Error: 1.3499999999999943\n"
     ]
    }
   ],
   "source": [
    "# build the model\n",
    "model = convolutional_model()\n",
    "\n",
    "# fit the model\n",
    "model.fit(X_train, y_train, validation_data=(X_test, y_test), epochs=10, batch_size=200, verbose=2)\n",
    "\n",
    "# evaluate the model\n",
    "scores = model.evaluate(X_test, y_test, verbose=0)\n",
    "print(\"Accuracy: {} \\n Error: {}\".format(scores[1], 100-scores[1]*100))"
   ]
  },
  {
   "cell_type": "markdown",
   "metadata": {},
   "source": [
    "------------------------------------------"
   ]
  },
  {
   "cell_type": "markdown",
   "metadata": {},
   "source": [
    "## Convolutional Layer with two sets of convolutional and pooling layers"
   ]
  },
  {
   "cell_type": "markdown",
   "metadata": {},
   "source": [
    "Redefine the convolutional model so that it has two convolutional and pooling layers instead of just one layer of each."
   ]
  },
  {
   "cell_type": "code",
   "execution_count": 8,
   "metadata": {},
   "outputs": [],
   "source": [
    "def convolutional_model():\n",
    "    \n",
    "    # create model\n",
    "    model = Sequential()\n",
    "    model.add(Conv2D(16, (5, 5), activation='relu', input_shape=(28, 28, 1)))\n",
    "    model.add(MaxPooling2D(pool_size=(2, 2), strides=(2, 2)))\n",
    "    \n",
    "    model.add(Conv2D(8, (2, 2), activation='relu'))\n",
    "    model.add(MaxPooling2D(pool_size=(2, 2), strides=(2, 2)))\n",
    "    \n",
    "    model.add(Flatten())\n",
    "    model.add(Dense(100, activation='relu'))\n",
    "    model.add(Dense(num_classes, activation='softmax'))\n",
    "    \n",
    "    # Compile model\n",
    "    model.compile(optimizer='adam', loss='categorical_crossentropy',  metrics=['accuracy'])\n",
    "    return model"
   ]
  },
  {
   "cell_type": "markdown",
   "metadata": {},
   "source": [
    "Create our new convolutional neural network, and then let's train it and evaluate it."
   ]
  },
  {
   "cell_type": "code",
   "execution_count": 9,
   "metadata": {},
   "outputs": [
    {
     "name": "stdout",
     "output_type": "stream",
     "text": [
      "Train on 60000 samples, validate on 10000 samples\n",
      "Epoch 1/10\n",
      " - 49s - loss: 0.4723 - acc: 0.8683 - val_loss: 0.1355 - val_acc: 0.9599\n",
      "Epoch 2/10\n",
      " - 47s - loss: 0.1190 - acc: 0.9648 - val_loss: 0.1040 - val_acc: 0.9652\n",
      "Epoch 3/10\n",
      " - 46s - loss: 0.0833 - acc: 0.9741 - val_loss: 0.0716 - val_acc: 0.9769\n",
      "Epoch 4/10\n",
      " - 46s - loss: 0.0645 - acc: 0.9803 - val_loss: 0.0544 - val_acc: 0.9826\n",
      "Epoch 5/10\n",
      " - 47s - loss: 0.0539 - acc: 0.9837 - val_loss: 0.0436 - val_acc: 0.9868\n",
      "Epoch 6/10\n",
      " - 48s - loss: 0.0468 - acc: 0.9858 - val_loss: 0.0495 - val_acc: 0.9838\n",
      "Epoch 7/10\n",
      " - 48s - loss: 0.0403 - acc: 0.9878 - val_loss: 0.0389 - val_acc: 0.9873\n",
      "Epoch 8/10\n",
      " - 46s - loss: 0.0365 - acc: 0.9886 - val_loss: 0.0400 - val_acc: 0.9870\n",
      "Epoch 9/10\n",
      " - 47s - loss: 0.0344 - acc: 0.9889 - val_loss: 0.0364 - val_acc: 0.9880\n",
      "Epoch 10/10\n",
      " - 47s - loss: 0.0302 - acc: 0.9907 - val_loss: 0.0377 - val_acc: 0.9873\n",
      "Accuracy: 0.9873 \n",
      " Error: 1.2700000000000102\n"
     ]
    }
   ],
   "source": [
    "# build the model\n",
    "model = convolutional_model()\n",
    "\n",
    "# fit the model\n",
    "model.fit(X_train, y_train, validation_data=(X_test, y_test), epochs=10, batch_size=200, verbose=2)\n",
    "\n",
    "# evaluate the model\n",
    "scores = model.evaluate(X_test, y_test, verbose=0)\n",
    "print(\"Accuracy: {} \\n Error: {}\".format(scores[1], 100-scores[1]*100))"
   ]
  }
 ],
 "metadata": {
  "kernelspec": {
   "display_name": "Python 3",
   "language": "python",
   "name": "python3"
  },
  "language_info": {
   "codemirror_mode": {
    "name": "ipython",
    "version": 3
   },
   "file_extension": ".py",
   "mimetype": "text/x-python",
   "name": "python",
   "nbconvert_exporter": "python",
   "pygments_lexer": "ipython3",
   "version": "3.6.5"
  }
 },
 "nbformat": 4,
 "nbformat_minor": 2
}
